{
 "cells": [
  {
   "cell_type": "code",
   "execution_count": null,
   "id": "481bafd4",
   "metadata": {},
   "outputs": [],
   "source": [
    "import numpy as np\n",
    "import matplotlib.pyplot as plt\n",
    "import seaborn as sns\n",
    "import pickle\n",
    "import pandas as pd"
   ]
  },
  {
   "cell_type": "code",
   "execution_count": null,
   "id": "63c6d5be",
   "metadata": {},
   "outputs": [],
   "source": [
    "Asset 1 Sharpe ratio: 0.4671035448584997\n",
    "Asset 1 Sortino ratio: 0.654480447517807\n",
    "Asset 2 Sharpe ratio: 0.1813032767005358\n",
    "Asset 2 Sortino ratio: 0.26571688597313214"
   ]
  },
  {
   "cell_type": "code",
   "execution_count": null,
   "id": "18ad70a8",
   "metadata": {},
   "outputs": [],
   "source": [
    "with open('./logs/sharpe_causal_True.pickle', 'rb') as fp:\n",
    "    cot_sharpe = pickle.load(fp)\n",
    "    \n",
    "with open('./logs/sortino_causal_True.pickle', 'rb') as fp:\n",
    "    cot_sortine = pickle.load(fp)"
   ]
  },
  {
   "cell_type": "code",
   "execution_count": null,
   "id": "2a490aef",
   "metadata": {},
   "outputs": [],
   "source": [
    "np.round(cot_sharpe, 4)"
   ]
  },
  {
   "cell_type": "code",
   "execution_count": null,
   "id": "a280eb30",
   "metadata": {},
   "outputs": [],
   "source": [
    "np.round(cot_sortine, 4)"
   ]
  },
  {
   "cell_type": "code",
   "execution_count": null,
   "id": "2fffdef6",
   "metadata": {},
   "outputs": [],
   "source": [
    "with open('./logs/sharpe_causal_False.pickle', 'rb') as fp:\n",
    "    ot_sharpe = pickle.load(fp)\n",
    "    \n",
    "with open('./logs/sortino_causal_False.pickle', 'rb') as fp:\n",
    "    ot_sortine = pickle.load(fp)"
   ]
  },
  {
   "cell_type": "code",
   "execution_count": null,
   "id": "83671799",
   "metadata": {},
   "outputs": [],
   "source": [
    "np.round(ot_sharpe, 4)"
   ]
  },
  {
   "cell_type": "code",
   "execution_count": null,
   "id": "2030aa4e",
   "metadata": {},
   "outputs": [],
   "source": [
    "np.round(ot_sortine, 4)"
   ]
  },
  {
   "cell_type": "code",
   "execution_count": null,
   "id": "44dd9600",
   "metadata": {},
   "outputs": [],
   "source": []
  },
  {
   "cell_type": "code",
   "execution_count": null,
   "id": "b993da8e",
   "metadata": {},
   "outputs": [],
   "source": []
  }
 ],
 "metadata": {
  "kernelspec": {
   "display_name": "Python 3 (ipykernel)",
   "language": "python",
   "name": "python3"
  },
  "language_info": {
   "codemirror_mode": {
    "name": "ipython",
    "version": 3
   },
   "file_extension": ".py",
   "mimetype": "text/x-python",
   "name": "python",
   "nbconvert_exporter": "python",
   "pygments_lexer": "ipython3",
   "version": "3.9.12"
  }
 },
 "nbformat": 4,
 "nbformat_minor": 5
}
